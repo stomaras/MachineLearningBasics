{
 "cells": [
  {
   "cell_type": "code",
   "execution_count": 17,
   "metadata": {},
   "outputs": [],
   "source": [
    "import pandas as pd\n",
    "import numpy as np \n",
    "import matplotlib as plt \n",
    "import csv\n",
    "import random"
   ]
  },
  {
   "cell_type": "markdown",
   "metadata": {},
   "source": [
    "# Load the data"
   ]
  },
  {
   "cell_type": "code",
   "execution_count": 18,
   "metadata": {},
   "outputs": [
    {
     "name": "stdout",
     "output_type": "stream",
     "text": [
      "5.1, 3.5, 1.4, 0.2, setosa\n",
      "4.9, 3.0, 1.4, 0.2, setosa\n",
      "4.7, 3.2, 1.3, 0.2, setosa\n",
      "4.6, 3.1, 1.5, 0.2, setosa\n",
      "5.0, 3.6, 1.4, 0.2, setosa\n",
      "5.4, 3.9, 1.7, 0.4, setosa\n",
      "4.6, 3.4, 1.4, 0.3, setosa\n",
      "5.0, 3.4, 1.5, 0.2, setosa\n",
      "4.4, 2.9, 1.4, 0.2, setosa\n",
      "4.9, 3.1, 1.5, 0.1, setosa\n",
      "5.4, 3.7, 1.5, 0.2, setosa\n",
      "4.8, 3.4, 1.6, 0.2, setosa\n",
      "4.8, 3.0, 1.4, 0.1, setosa\n",
      "4.3, 3.0, 1.1, 0.1, setosa\n",
      "5.8, 4.0, 1.2, 0.2, setosa\n",
      "5.7, 4.4, 1.5, 0.4, setosa\n",
      "5.4, 3.9, 1.3, 0.4, setosa\n",
      "5.1, 3.5, 1.4, 0.3, setosa\n",
      "5.7, 3.8, 1.7, 0.3, setosa\n",
      "5.1, 3.8, 1.5, 0.3, setosa\n",
      "5.4, 3.4, 1.7, 0.2, setosa\n",
      "5.1, 3.7, 1.5, 0.4, setosa\n",
      "4.6, 3.6, 1.0, 0.2, setosa\n",
      "5.1, 3.3, 1.7, 0.5, setosa\n",
      "4.8, 3.4, 1.9, 0.2, setosa\n",
      "5.0, 3.0, 1.6, 0.2, setosa\n",
      "5.0, 3.4, 1.6, 0.4, setosa\n",
      "5.2, 3.5, 1.5, 0.2, setosa\n",
      "5.2, 3.4, 1.4, 0.2, setosa\n",
      "4.7, 3.2, 1.6, 0.2, setosa\n",
      "4.8, 3.1, 1.6, 0.2, setosa\n",
      "5.4, 3.4, 1.5, 0.4, setosa\n",
      "5.2, 4.1, 1.5, 0.1, setosa\n",
      "5.5, 4.2, 1.4, 0.2, setosa\n",
      "4.9, 3.1, 1.5, 0.1, setosa\n",
      "5.0, 3.2, 1.2, 0.2, setosa\n",
      "5.5, 3.5, 1.3, 0.2, setosa\n",
      "4.9, 3.1, 1.5, 0.1, setosa\n",
      "4.4, 3.0, 1.3, 0.2, setosa\n",
      "5.1, 3.4, 1.5, 0.2, setosa\n",
      "5.0, 3.5, 1.3, 0.3, setosa\n",
      "4.5, 2.3, 1.3, 0.3, setosa\n",
      "4.4, 3.2, 1.3, 0.2, setosa\n",
      "5.0, 3.5, 1.6, 0.6, setosa\n",
      "5.1, 3.8, 1.9, 0.4, setosa\n",
      "4.8, 3.0, 1.4, 0.3, setosa\n",
      "5.1, 3.8, 1.6, 0.2, setosa\n",
      "4.6, 3.2, 1.4, 0.2, setosa\n",
      "5.3, 3.7, 1.5, 0.2, setosa\n",
      "5.0, 3.3, 1.4, 0.2, setosa\n",
      "7.0, 3.2, 4.7, 1.4, versicolor\n",
      "6.4, 3.2, 4.5, 1.5, versicolor\n",
      "6.9, 3.1, 4.9, 1.5, versicolor\n",
      "5.5, 2.3, 4.0, 1.3, versicolor\n",
      "6.5, 2.8, 4.6, 1.5, versicolor\n",
      "5.7, 2.8, 4.5, 1.3, versicolor\n",
      "6.3, 3.3, 4.7, 1.6, versicolor\n",
      "4.9, 2.4, 3.3, 1.0, versicolor\n",
      "6.6, 2.9, 4.6, 1.3, versicolor\n",
      "5.2, 2.7, 3.9, 1.4, versicolor\n",
      "5.0, 2.0, 3.5, 1.0, versicolor\n",
      "5.9, 3.0, 4.2, 1.5, versicolor\n",
      "6.0, 2.2, 4.0, 1.0, versicolor\n",
      "6.1, 2.9, 4.7, 1.4, versicolor\n",
      "5.6, 2.9, 3.6, 1.3, versicolor\n",
      "6.7, 3.1, 4.4, 1.4, versicolor\n",
      "5.6, 3.0, 4.5, 1.5, versicolor\n",
      "5.8, 2.7, 4.1, 1.0, versicolor\n",
      "6.2, 2.2, 4.5, 1.5, versicolor\n",
      "5.6, 2.5, 3.9, 1.1, versicolor\n",
      "5.9, 3.2, 4.8, 1.8, versicolor\n",
      "6.1, 2.8, 4.0, 1.3, versicolor\n",
      "6.3, 2.5, 4.9, 1.5, versicolor\n",
      "6.1, 2.8, 4.7, 1.2, versicolor\n",
      "6.4, 2.9, 4.3, 1.3, versicolor\n",
      "6.6, 3.0, 4.4, 1.4, versicolor\n",
      "6.8, 2.8, 4.8, 1.4, versicolor\n",
      "6.7, 3.0, 5.0, 1.7, versicolor\n",
      "6.0, 2.9, 4.5, 1.5, versicolor\n",
      "5.7, 2.6, 3.5, 1.0, versicolor\n",
      "5.5, 2.4, 3.8, 1.1, versicolor\n",
      "5.5, 2.4, 3.7, 1.0, versicolor\n",
      "5.8, 2.7, 3.9, 1.2, versicolor\n",
      "6.0, 2.7, 5.1, 1.6, versicolor\n",
      "5.4, 3.0, 4.5, 1.5, versicolor\n",
      "6.0, 3.4, 4.5, 1.6, versicolor\n",
      "6.7, 3.1, 4.7, 1.5, versicolor\n",
      "6.3, 2.3, 4.4, 1.3, versicolor\n",
      "5.6, 3.0, 4.1, 1.3, versicolor\n",
      "5.5, 2.5, 4.0, 1.3, versicolor\n",
      "5.5, 2.6, 4.4, 1.2, versicolor\n",
      "6.1, 3.0, 4.6, 1.4, versicolor\n",
      "5.8, 2.6, 4.0, 1.2, versicolor\n",
      "5.0, 2.3, 3.3, 1.0, versicolor\n",
      "5.6, 2.7, 4.2, 1.3, versicolor\n",
      "5.7, 3.0, 4.2, 1.2, versicolor\n",
      "5.7, 2.9, 4.2, 1.3, versicolor\n",
      "6.2, 2.9, 4.3, 1.3, versicolor\n",
      "5.1, 2.5, 3.0, 1.1, versicolor\n",
      "5.7, 2.8, 4.1, 1.3, versicolor\n",
      "6.3, 3.3, 6.0, 2.5, virginica\n",
      "5.8, 2.7, 5.1, 1.9, virginica\n",
      "7.1, 3.0, 5.9, 2.1, virginica\n",
      "6.3, 2.9, 5.6, 1.8, virginica\n",
      "6.5, 3.0, 5.8, 2.2, virginica\n",
      "7.6, 3.0, 6.6, 2.1, virginica\n",
      "4.9, 2.5, 4.5, 1.7, virginica\n",
      "7.3, 2.9, 6.3, 1.8, virginica\n",
      "6.7, 2.5, 5.8, 1.8, virginica\n",
      "7.2, 3.6, 6.1, 2.5, virginica\n",
      "6.5, 3.2, 5.1, 2.0, virginica\n",
      "6.4, 2.7, 5.3, 1.9, virginica\n",
      "6.8, 3.0, 5.5, 2.1, virginica\n",
      "5.7, 2.5, 5.0, 2.0, virginica\n",
      "5.8, 2.8, 5.1, 2.4, virginica\n",
      "6.4, 3.2, 5.3, 2.3, virginica\n",
      "6.5, 3.0, 5.5, 1.8, virginica\n",
      "7.7, 3.8, 6.7, 2.2, virginica\n",
      "7.7, 2.6, 6.9, 2.3, virginica\n",
      "6.0, 2.2, 5.0, 1.5, virginica\n",
      "6.9, 3.2, 5.7, 2.3, virginica\n",
      "5.6, 2.8, 4.9, 2.0, virginica\n",
      "7.7, 2.8, 6.7, 2.0, virginica\n",
      "6.3, 2.7, 4.9, 1.8, virginica\n",
      "6.7, 3.3, 5.7, 2.1, virginica\n",
      "7.2, 3.2, 6.0, 1.8, virginica\n",
      "6.2, 2.8, 4.8, 1.8, virginica\n",
      "6.1, 3.0, 4.9, 1.8, virginica\n",
      "6.4, 2.8, 5.6, 2.1, virginica\n",
      "7.2, 3.0, 5.8, 1.6, virginica\n",
      "7.4, 2.8, 6.1, 1.9, virginica\n",
      "7.9, 3.8, 6.4, 2.0, virginica\n",
      "6.4, 2.8, 5.6, 2.2, virginica\n",
      "6.3, 2.8, 5.1, 1.5, virginica\n",
      "6.1, 2.6, 5.6, 1.4, virginica\n",
      "7.7, 3.0, 6.1, 2.3, virginica\n",
      "6.3, 3.4, 5.6, 2.4, virginica\n",
      "6.4, 3.1, 5.5, 1.8, virginica\n",
      "6.0, 3.0, 4.8, 1.8, virginica\n",
      "6.9, 3.1, 5.4, 2.1, virginica\n",
      "6.7, 3.1, 5.6, 2.4, virginica\n",
      "6.9, 3.1, 5.1, 2.3, virginica\n",
      "5.8, 2.7, 5.1, 1.9, virginica\n",
      "6.8, 3.2, 5.9, 2.3, virginica\n",
      "6.7, 3.3, 5.7, 2.5, virginica\n",
      "6.7, 3.0, 5.2, 2.3, virginica\n",
      "6.3, 2.5, 5.0, 1.9, virginica\n",
      "6.5, 3.0, 5.2, 2.0, virginica\n",
      "6.2, 3.4, 5.4, 2.3, virginica\n",
      "5.9, 3.0, 5.1, 1.8, virginica\n"
     ]
    }
   ],
   "source": [
    "with open(r'C:\\\\Users\\\\sptom\\\\Classification\\\\MachineLearningBasics\\\\iris.data') as csvfile:\n",
    "    lines = csv.reader(csvfile)\n",
    "    for row in lines:\n",
    "            print(', '.join(row))"
   ]
  },
  {
   "cell_type": "code",
   "execution_count": 19,
   "metadata": {},
   "outputs": [],
   "source": [
    "def loadDataset(filename, split, trainingSet=[], testSet=[]):\n",
    "    with open(filename, 'r') as csvfile:\n",
    "        lines = csv.reader(csvfile)\n",
    "        dataset = list(lines)\n",
    "        for x in range(len(dataset)-1):\n",
    "            for y in range(4):\n",
    "                dataset[x][y] = float(dataset[x][y])\n",
    "            if random.random() < split:\n",
    "                trainingSet.append(dataset[x])\n",
    "            else:\n",
    "                testSet.append(dataset[x])"
   ]
  },
  {
   "cell_type": "markdown",
   "metadata": {},
   "source": [
    "# trainingSet = []\n",
    "testSet = []\n",
    "loadDataset(r'iris.data.', 0.66, trainingSet, testSet)\n",
    "print('Train: ' + repr(len(trainingSet)))\n",
    "print('Test: ' + repr(len(testSet)))"
   ]
  },
  {
   "cell_type": "markdown",
   "metadata": {},
   "source": [
    "# Euclidian Distance"
   ]
  },
  {
   "cell_type": "code",
   "execution_count": 24,
   "metadata": {},
   "outputs": [],
   "source": [
    "import math \n",
    "def euclideanDistance(instance1, instance2, length):\n",
    "    distance = 0\n",
    "    for x in range(length):\n",
    "        distance += pow((instance1[x] - instance2[x]), 2)\n",
    "    return math.sqrt(distance)"
   ]
  },
  {
   "cell_type": "code",
   "execution_count": 26,
   "metadata": {},
   "outputs": [
    {
     "name": "stdout",
     "output_type": "stream",
     "text": [
      "Distance: 3.4641016151377544\n"
     ]
    }
   ],
   "source": [
    "data1 = [2, 2, 2, 'a']\n",
    "data2 = [4, 4, 4, 'b']\n",
    "distance = euclideanDistance(data1, data2, 3)\n",
    "print ('Distance: ' + repr(distance))"
   ]
  },
  {
   "cell_type": "markdown",
   "metadata": {},
   "source": [
    "# KNN"
   ]
  },
  {
   "cell_type": "code",
   "execution_count": 27,
   "metadata": {},
   "outputs": [],
   "source": [
    "import operator \n",
    "def getNeighbors(trainingSet, testInstance, k):\n",
    "    distances = []\n",
    "    length = len(testInstance) - 1\n",
    "    for x in range(len(trainingSet)):\n",
    "        dist = euclideanDistance(testInstance, trainingSet[x], length)\n",
    "        distances.append((trainingSet[x], dist))\n",
    "    distances.sort(key=operator.itemgetter(1))\n",
    "    neighbors = []\n",
    "    for x in range(k):\n",
    "        neighbors.append(distances[x][0])\n",
    "    return neighbors"
   ]
  },
  {
   "cell_type": "code",
   "execution_count": 28,
   "metadata": {},
   "outputs": [
    {
     "name": "stdout",
     "output_type": "stream",
     "text": [
      "[[4, 4, 4, 'b']]\n"
     ]
    }
   ],
   "source": [
    "trainSet = [[2, 2, 2, 'a'],[4, 4, 4, 'b']]\n",
    "testInstance = [5, 5, 5]\n",
    "k = 1\n",
    "neighbors = getNeighbors(trainSet, testInstance, 1)\n",
    "print(neighbors)"
   ]
  },
  {
   "cell_type": "code",
   "execution_count": null,
   "metadata": {},
   "outputs": [],
   "source": []
  }
 ],
 "metadata": {
  "kernelspec": {
   "display_name": "Python 3",
   "language": "python",
   "name": "python3"
  },
  "language_info": {
   "codemirror_mode": {
    "name": "ipython",
    "version": 3
   },
   "file_extension": ".py",
   "mimetype": "text/x-python",
   "name": "python",
   "nbconvert_exporter": "python",
   "pygments_lexer": "ipython3",
   "version": "3.7.3"
  }
 },
 "nbformat": 4,
 "nbformat_minor": 2
}
